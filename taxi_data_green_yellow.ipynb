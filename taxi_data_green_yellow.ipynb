{
 "cells": [
  {
   "cell_type": "code",
   "execution_count": 35,
   "id": "a15423d7",
   "metadata": {},
   "outputs": [],
   "source": [
    "#for auto complete\n",
    "%config Completer.use_jedi = True"
   ]
  },
  {
   "cell_type": "code",
   "execution_count": 3,
   "id": "270b8776",
   "metadata": {},
   "outputs": [],
   "source": [
    "import pyspark\n",
    "from pyspark.sql import SparkSession\n",
    "from pyspark.sql.functions import col"
   ]
  },
  {
   "cell_type": "code",
   "execution_count": 4,
   "id": "67bb5865",
   "metadata": {},
   "outputs": [
    {
     "name": "stdout",
     "output_type": "stream",
     "text": [
      "23/10/26 16:25:33 WARN Utils: Your hostname, veera resolves to a loopback address: 127.0.1.1; using 10.0.2.15 instead (on interface enp0s3)\n",
      "23/10/26 16:25:33 WARN Utils: Set SPARK_LOCAL_IP if you need to bind to another address\n"
     ]
    },
    {
     "name": "stderr",
     "output_type": "stream",
     "text": [
      "Setting default log level to \"WARN\".\n",
      "To adjust logging level use sc.setLogLevel(newLevel). For SparkR, use setLogLevel(newLevel).\n"
     ]
    },
    {
     "name": "stdout",
     "output_type": "stream",
     "text": [
      "23/10/26 16:25:36 WARN NativeCodeLoader: Unable to load native-hadoop library for your platform... using builtin-java classes where applicable\n"
     ]
    }
   ],
   "source": [
    "spark = SparkSession.builder \\\n",
    "        .master(\"local[*]\") \\\n",
    "        .appName('test') \\\n",
    "        .getOrCreate()"
   ]
  },
  {
   "cell_type": "code",
   "execution_count": 5,
   "id": "e0b21930",
   "metadata": {},
   "outputs": [
    {
     "data": {
      "text/html": [
       "\n",
       "            <div>\n",
       "                <p><b>SparkSession - in-memory</b></p>\n",
       "                \n",
       "        <div>\n",
       "            <p><b>SparkContext</b></p>\n",
       "\n",
       "            <p><a href=\"http://10.0.2.15:4040\">Spark UI</a></p>\n",
       "\n",
       "            <dl>\n",
       "              <dt>Version</dt>\n",
       "                <dd><code>v3.3.3</code></dd>\n",
       "              <dt>Master</dt>\n",
       "                <dd><code>local[*]</code></dd>\n",
       "              <dt>AppName</dt>\n",
       "                <dd><code>test</code></dd>\n",
       "            </dl>\n",
       "        </div>\n",
       "        \n",
       "            </div>\n",
       "        "
      ],
      "text/plain": [
       "<pyspark.sql.session.SparkSession at 0x7f2708129b40>"
      ]
     },
     "execution_count": 5,
     "metadata": {},
     "output_type": "execute_result"
    }
   ],
   "source": [
    "spark"
   ]
  },
  {
   "cell_type": "code",
   "execution_count": 17,
   "id": "a47fd112",
   "metadata": {},
   "outputs": [
    {
     "name": "stdout",
     "output_type": "stream",
     "text": [
      "+--------+--------------------+---------------------+---------------+-------------+----------+------------------+------------+------------+------------+-----------+-----+-------+----------+------------+---------------------+------------+--------------------+-----------+\n",
      "|VendorID|tpep_pickup_datetime|tpep_dropoff_datetime|passenger_count|trip_distance|RatecodeID|store_and_fwd_flag|PULocationID|DOLocationID|payment_type|fare_amount|extra|mta_tax|tip_amount|tolls_amount|improvement_surcharge|total_amount|congestion_surcharge|airport_fee|\n",
      "+--------+--------------------+---------------------+---------------+-------------+----------+------------------+------------+------------+------------+-----------+-----+-------+----------+------------+---------------------+------------+--------------------+-----------+\n",
      "|       1| 2022-01-01 06:05:40|  2022-01-01 06:23:29|            2.0|          3.8|       1.0|                 N|         142|         236|           1|       14.5|  3.0|    0.5|      3.65|         0.0|                  0.3|       21.95|                 2.5|        0.0|\n",
      "|       1| 2022-01-01 06:03:43|  2022-01-01 06:12:07|            1.0|          2.1|       1.0|                 N|         236|          42|           1|        8.0|  0.5|    0.5|       4.0|         0.0|                  0.3|        13.3|                 0.0|        0.0|\n",
      "|       2| 2022-01-01 06:23:21|  2022-01-01 06:32:19|            1.0|         0.97|       1.0|                 N|         166|         166|           1|        7.5|  0.5|    0.5|      1.76|         0.0|                  0.3|       10.56|                 0.0|        0.0|\n",
      "|       2| 2022-01-01 05:55:21|  2022-01-01 06:05:23|            1.0|         1.09|       1.0|                 N|         114|          68|           2|        8.0|  0.5|    0.5|       0.0|         0.0|                  0.3|        11.8|                 2.5|        0.0|\n",
      "|       2| 2022-01-01 06:06:48|  2022-01-01 06:44:20|            1.0|          4.3|       1.0|                 N|          68|         163|           1|       23.5|  0.5|    0.5|       3.0|         0.0|                  0.3|        30.3|                 2.5|        0.0|\n",
      "|       1| 2022-01-01 06:10:15|  2022-01-01 06:39:48|            1.0|         10.3|       1.0|                 N|         138|         161|           1|       33.0|  3.0|    0.5|      13.0|        6.55|                  0.3|       56.35|                 2.5|        0.0|\n",
      "|       2| 2022-01-01 05:50:50|  2022-01-01 06:04:58|            1.0|         5.07|       1.0|                 N|         233|          87|           1|       17.0|  0.5|    0.5|       5.2|         0.0|                  0.3|        26.0|                 2.5|        0.0|\n",
      "|       2| 2022-01-01 05:43:04|  2022-01-01 05:52:45|            1.0|         2.02|       1.0|                 N|         238|         152|           2|        9.0|  0.5|    0.5|       0.0|         0.0|                  0.3|        12.8|                 2.5|        0.0|\n",
      "|       2| 2022-01-01 06:00:02|  2022-01-01 06:14:49|            1.0|         2.71|       1.0|                 N|         166|         236|           1|       12.0|  0.5|    0.5|      2.25|         0.0|                  0.3|       18.05|                 2.5|        0.0|\n",
      "|       2| 2022-01-01 06:18:52|  2022-01-01 06:23:28|            1.0|         0.78|       1.0|                 N|         236|         141|           2|        5.0|  0.5|    0.5|       0.0|         0.0|                  0.3|         8.8|                 2.5|        0.0|\n",
      "|       2| 2022-01-01 06:25:03|  2022-01-01 06:34:25|            1.0|         1.91|       1.0|                 N|         141|         229|           2|        8.5|  0.5|    0.5|       0.0|         0.0|                  0.3|        12.3|                 2.5|        0.0|\n",
      "|       2| 2022-01-01 06:01:06|  2022-01-01 06:04:14|            3.0|         0.82|       1.0|                 N|         114|          90|           2|        4.5|  0.5|    0.5|       0.0|         0.0|                  0.3|         8.3|                 2.5|        0.0|\n",
      "|       2| 2022-01-01 06:11:07|  2022-01-01 06:14:46|            3.0|         0.73|       1.0|                 N|         234|         113|           2|        4.5|  0.5|    0.5|       0.0|         0.0|                  0.3|         8.3|                 2.5|        0.0|\n",
      "|       2| 2022-01-01 06:26:34|  2022-01-01 06:42:04|            2.0|         2.16|       1.0|                 N|         246|          79|           1|       11.5|  0.5|    0.5|      3.06|         0.0|                  0.3|       18.36|                 2.5|        0.0|\n",
      "|       2| 2022-01-01 06:09:46|  2022-01-01 06:17:36|            4.0|         1.43|       1.0|                 N|          43|         140|           1|        7.5|  0.5|    0.5|      2.26|         0.0|                  0.3|       13.56|                 2.5|        0.0|\n",
      "|       2| 2022-01-01 06:28:06|  2022-01-01 06:35:45|            1.0|         1.58|       1.0|                 N|         239|         151|           2|        8.0|  0.5|    0.5|       0.0|         0.0|                  0.3|        11.8|                 2.5|        0.0|\n",
      "|       1| 2022-01-01 06:03:52|  2022-01-01 06:17:28|            3.0|          4.2|       1.0|                 N|         148|         141|           1|       14.0|  2.5|    0.5|      3.45|         0.0|                  0.3|       20.75|                 2.5|        0.0|\n",
      "|       1| 2022-01-01 06:23:54|  2022-01-01 06:35:20|            2.0|          2.2|       1.0|                 N|         237|         107|           1|        9.5|  2.5|    0.5|      2.55|         0.0|                  0.3|       15.35|                 2.5|        0.0|\n",
      "|       1| 2022-01-01 05:30:44|  2022-01-01 05:35:29|            1.0|          0.2|       1.0|                 N|           7|           7|           2|        5.0|  0.5|    0.5|       0.0|         0.0|                  0.3|         6.3|                 0.0|        0.0|\n",
      "|       1| 2022-01-01 06:05:50|  2022-01-01 06:18:33|            2.0|          3.9|       1.0|                 N|         107|         263|           1|       13.0|  3.0|    0.5|      3.35|         0.0|                  0.3|       20.15|                 2.5|        0.0|\n",
      "+--------+--------------------+---------------------+---------------+-------------+----------+------------------+------------+------------+------------+-----------+-----+-------+----------+------------+---------------------+------------+--------------------+-----------+\n",
      "only showing top 20 rows\n",
      "\n"
     ]
    },
    {
     "name": "stderr",
     "output_type": "stream",
     "text": [
      "\r",
      "[Stage 14:===================>                                      (1 + 2) / 3]\r",
      "\r",
      "                                                                                \r"
     ]
    }
   ],
   "source": [
    "df_yellow = spark.read \\\n",
    "                .option(\"headers\", \"true\") \\\n",
    "                .parquet(\"raw_data_yellow/\")\n",
    "df_yellow.show()"
   ]
  },
  {
   "cell_type": "code",
   "execution_count": 11,
   "id": "53236fe8",
   "metadata": {},
   "outputs": [
    {
     "name": "stdout",
     "output_type": "stream",
     "text": [
      "root\n",
      " |-- VendorID: long (nullable = true)\n",
      " |-- tpep_pickup_datetime: timestamp (nullable = true)\n",
      " |-- tpep_dropoff_datetime: timestamp (nullable = true)\n",
      " |-- passenger_count: double (nullable = true)\n",
      " |-- trip_distance: double (nullable = true)\n",
      " |-- RatecodeID: double (nullable = true)\n",
      " |-- store_and_fwd_flag: string (nullable = true)\n",
      " |-- PULocationID: long (nullable = true)\n",
      " |-- DOLocationID: long (nullable = true)\n",
      " |-- payment_type: long (nullable = true)\n",
      " |-- fare_amount: double (nullable = true)\n",
      " |-- extra: double (nullable = true)\n",
      " |-- mta_tax: double (nullable = true)\n",
      " |-- tip_amount: double (nullable = true)\n",
      " |-- tolls_amount: double (nullable = true)\n",
      " |-- improvement_surcharge: double (nullable = true)\n",
      " |-- total_amount: double (nullable = true)\n",
      " |-- congestion_surcharge: double (nullable = true)\n",
      " |-- airport_fee: double (nullable = true)\n",
      "\n"
     ]
    }
   ],
   "source": [
    "df_yellow.printSchema()"
   ]
  },
  {
   "cell_type": "code",
   "execution_count": 19,
   "id": "8288d1fe",
   "metadata": {},
   "outputs": [],
   "source": [
    "df_yellow = df_yellow \\\n",
    "    .withColumn('PULocationID',col('PULocationID').cast('integer')) \\\n",
    "    .withColumn('DOLocationID',col('PULocationID').cast('integer')) \\\n",
    "    .withColumn('payment_type',col('payment_type').cast('integer'))"
   ]
  },
  {
   "cell_type": "code",
   "execution_count": 20,
   "id": "b8d645c2",
   "metadata": {},
   "outputs": [
    {
     "name": "stdout",
     "output_type": "stream",
     "text": [
      "root\n",
      " |-- VendorID: long (nullable = true)\n",
      " |-- tpep_pickup_datetime: timestamp (nullable = true)\n",
      " |-- tpep_dropoff_datetime: timestamp (nullable = true)\n",
      " |-- passenger_count: double (nullable = true)\n",
      " |-- trip_distance: double (nullable = true)\n",
      " |-- RatecodeID: double (nullable = true)\n",
      " |-- store_and_fwd_flag: string (nullable = true)\n",
      " |-- PULocationID: integer (nullable = true)\n",
      " |-- DOLocationID: integer (nullable = true)\n",
      " |-- payment_type: integer (nullable = true)\n",
      " |-- fare_amount: double (nullable = true)\n",
      " |-- extra: double (nullable = true)\n",
      " |-- mta_tax: double (nullable = true)\n",
      " |-- tip_amount: double (nullable = true)\n",
      " |-- tolls_amount: double (nullable = true)\n",
      " |-- improvement_surcharge: double (nullable = true)\n",
      " |-- total_amount: double (nullable = true)\n",
      " |-- congestion_surcharge: double (nullable = true)\n",
      " |-- airport_fee: double (nullable = true)\n",
      "\n"
     ]
    }
   ],
   "source": [
    "df_yellow.printSchema()"
   ]
  },
  {
   "cell_type": "code",
   "execution_count": 22,
   "id": "c5970c0a",
   "metadata": {},
   "outputs": [
    {
     "name": "stdout",
     "output_type": "stream",
     "text": [
      "+------------+\n",
      "|payment_type|\n",
      "+------------+\n",
      "|           1|\n",
      "|           1|\n",
      "|           1|\n",
      "|           2|\n",
      "|           1|\n",
      "+------------+\n",
      "only showing top 5 rows\n",
      "\n"
     ]
    }
   ],
   "source": [
    "df_yellow.select(\"payment_type\").show(5)"
   ]
  },
  {
   "cell_type": "code",
   "execution_count": 23,
   "id": "4c0d9a10",
   "metadata": {},
   "outputs": [],
   "source": [
    "from pyspark.sql import functions as F"
   ]
  },
  {
   "cell_type": "code",
   "execution_count": 29,
   "id": "d886300a",
   "metadata": {},
   "outputs": [],
   "source": [
    "df_yellow = df_yellow.withColumn(\"year\", F.year(df_yellow.tpep_pickup_datetime))\n",
    "#df_yellow = df_yellow.withColumn(\"month\", F.month(df_yellow.tpep_pickup_datetime))\n",
    "\n"
   ]
  },
  {
   "cell_type": "code",
   "execution_count": 30,
   "id": "a1f49cb5",
   "metadata": {},
   "outputs": [
    {
     "name": "stderr",
     "output_type": "stream",
     "text": [
      "                                                                                \r"
     ]
    }
   ],
   "source": [
    "# Partition the yellow taxi data DataFrame by year and month\n",
    "# Create a DataFrameWriter object\n",
    "#df_writer = df_yellow.write\n",
    "\n",
    "# Partition the DataFrame by year and month\n",
    "#df_writer.partitionBy(\"year\", \"month\").save(\"yellow_partitioned_data/\", format=\"parquet\")\n",
    "#df_writer.partitionBy(\"year\").save(\"yellow_partitioned_data/\", format=\"parquet\")"
   ]
  },
  {
   "cell_type": "code",
   "execution_count": 34,
   "id": "62e37250",
   "metadata": {},
   "outputs": [
    {
     "name": "stderr",
     "output_type": "stream",
     "text": [
      "                                                                                \r"
     ]
    }
   ],
   "source": [
    "df_yellow = df_yellow.withColumn(\"year\", F.year(df_yellow.tpep_pickup_datetime))\n",
    "df_yellow = df_yellow.repartition(10)\n",
    "df_yellow.write.parquet(\"yellow_partitioned_data/\", partitionBy=[\"year\"])"
   ]
  },
  {
   "cell_type": "code",
   "execution_count": 37,
   "id": "61b5338e",
   "metadata": {},
   "outputs": [
    {
     "name": "stderr",
     "output_type": "stream",
     "text": [
      "                                                                                \r"
     ]
    },
    {
     "name": "stdout",
     "output_type": "stream",
     "text": [
      "+--------+--------------------+---------------------+---------------+-------------+----------+------------------+------------+------------+------------+-----------+-----+-------+----------+------------+---------------------+------------+--------------------+-----------+-----+\n",
      "|VendorID|tpep_pickup_datetime|tpep_dropoff_datetime|passenger_count|trip_distance|RatecodeID|store_and_fwd_flag|PULocationID|DOLocationID|payment_type|fare_amount|extra|mta_tax|tip_amount|tolls_amount|improvement_surcharge|total_amount|congestion_surcharge|airport_fee|month|\n",
      "+--------+--------------------+---------------------+---------------+-------------+----------+------------------+------------+------------+------------+-----------+-----+-------+----------+------------+---------------------+------------+--------------------+-----------+-----+\n",
      "|       2| 2022-01-13 13:10:53|  2022-01-13 13:21:25|            1.0|          1.3|       1.0|                 N|         107|         107|           1|        8.5|  0.0|    0.5|      2.36|         0.0|                  0.3|       14.16|                 2.5|        0.0|    1|\n",
      "|       2| 2022-01-08 18:05:19|  2022-01-08 18:24:26|            1.0|         4.16|       1.0|                 N|         142|         142|           1|       15.5|  0.0|    0.5|      3.76|         0.0|                  0.3|       22.56|                 2.5|        0.0|    1|\n",
      "|       2| 2022-01-19 22:12:09|  2022-01-19 22:27:01|            1.0|         3.04|       1.0|                 N|         163|         163|           1|       12.5|  1.0|    0.5|      3.36|         0.0|                  0.3|       20.16|                 2.5|        0.0|    1|\n",
      "|       2| 2022-01-25 01:09:36|  2022-01-25 01:21:05|            4.0|         2.36|       1.0|                 N|         230|         230|           2|       10.0|  1.0|    0.5|       0.0|         0.0|                  0.3|        14.3|                 2.5|        0.0|    1|\n",
      "|       2| 2022-01-30 22:23:29|  2022-01-30 22:32:12|            3.0|         2.28|       1.0|                 N|          87|          87|           1|        9.0|  0.0|    0.5|      0.62|         0.0|                  0.3|       12.92|                 2.5|        0.0|    1|\n",
      "|       2| 2022-01-07 20:19:25|  2022-01-07 20:23:38|            1.0|         0.34|       1.0|                 N|         239|         239|           2|        4.5|  0.0|    0.5|       0.0|         0.0|                  0.3|         7.8|                 2.5|        0.0|    1|\n",
      "|       1| 2022-01-14 01:11:47|  2022-01-14 01:19:07|            0.0|          0.9|       1.0|                 N|         142|         142|           1|        6.5|  3.5|    0.5|      2.15|         0.0|                  0.3|       12.95|                 2.5|        0.0|    1|\n",
      "|       2| 2022-01-23 23:05:18|  2022-01-23 23:15:50|            1.0|         1.68|       1.0|                 N|         230|         230|           1|        8.5|  0.0|    0.5|      2.36|         0.0|                  0.3|       14.16|                 2.5|        0.0|    1|\n",
      "|       2| 2022-01-12 22:45:32|  2022-01-12 22:49:47|            1.0|         0.62|       1.0|                 N|         141|         141|           1|        4.5|  1.0|    0.5|       1.5|         0.0|                  0.3|        10.3|                 2.5|        0.0|    1|\n",
      "|       2| 2022-01-28 22:22:57|  2022-01-28 22:52:54|           null|         5.77|      null|              null|         239|         239|           0|      27.75|  0.0|    0.5|      6.79|         0.0|                  0.3|       37.84|                null|       null|    1|\n",
      "|       1| 2022-01-26 22:45:42|  2022-01-26 23:02:11|            0.0|          2.6|       1.0|                 N|         239|         239|           1|       12.5|  3.5|    0.5|      3.35|         0.0|                  0.3|       20.15|                 2.5|        0.0|    1|\n",
      "|       2| 2022-01-18 18:05:37|  2022-01-18 18:12:30|            1.0|         1.16|       1.0|                 N|         142|         142|           1|        6.5|  0.0|    0.5|      1.96|         0.0|                  0.3|       11.76|                 2.5|        0.0|    1|\n",
      "|       2| 2022-01-31 16:04:59|  2022-01-31 16:29:55|            1.0|         6.67|       1.0|                 N|         138|         138|           1|       23.5|  0.0|    0.5|      5.61|         0.0|                  0.3|       33.66|                 2.5|       1.25|    1|\n",
      "|       2| 2022-01-14 11:34:08|  2022-01-14 11:51:42|            2.0|         4.92|       1.0|                 N|         249|         249|           1|       16.5|  0.5|    0.5|      4.06|         0.0|                  0.3|       24.36|                 2.5|        0.0|    1|\n",
      "|       2| 2022-01-22 07:02:31|  2022-01-22 07:16:05|            1.0|         5.06|       1.0|                 N|           4|           4|           1|       16.5|  0.5|    0.5|      4.06|         0.0|                  0.3|       24.36|                 2.5|        0.0|    1|\n",
      "|       2| 2022-01-20 22:48:10|  2022-01-20 23:05:03|            1.0|         1.65|       1.0|                 N|         233|         233|           1|       11.5|  1.0|    0.5|      3.16|         0.0|                  0.3|       18.96|                 2.5|        0.0|    1|\n",
      "|       2| 2022-01-03 21:17:38|  2022-01-03 22:09:05|            1.0|        20.04|       5.0|                 N|          13|          13|           1|       65.0|  0.0|    0.0|     13.56|         0.0|                  0.3|       81.36|                 2.5|        0.0|    1|\n",
      "|       2| 2022-01-06 20:52:05|  2022-01-06 20:54:48|            3.0|         0.42|       1.0|                 N|         142|         142|           1|        4.0|  0.0|    0.5|      1.46|         0.0|                  0.3|        8.76|                 2.5|        0.0|    1|\n",
      "|       2| 2022-01-26 23:15:14|  2022-01-26 23:17:54|            1.0|         0.51|       1.0|                 N|          79|          79|           2|        4.0|  1.0|    0.5|       0.0|         0.0|                  0.3|         8.3|                 2.5|        0.0|    1|\n",
      "|       2| 2022-01-20 02:56:24|  2022-01-20 03:05:22|            1.0|          1.9|       1.0|                 N|         162|         162|           1|        9.0|  0.5|    0.5|      2.56|         0.0|                  0.3|       15.36|                 2.5|        0.0|    1|\n",
      "+--------+--------------------+---------------------+---------------+-------------+----------+------------------+------------+------------+------------+-----------+-----+-------+----------+------------+---------------------+------------+--------------------+-----------+-----+\n",
      "only showing top 20 rows\n",
      "\n"
     ]
    }
   ],
   "source": [
    "# to read all the files inside the dorectories use this code\n",
    "\n",
    "import glob\n",
    "from pyspark.sql import functions as F\n",
    "\n",
    "# Get a list of all the Parquet files in the `yellow_data` directory\n",
    "parquet_files = glob.glob(\"yellow_partitioned_data/**/*.parquet\")\n",
    "\n",
    "# Create a SparkSession\n",
    "#spark = SparkSession.builder.getOrCreate()\n",
    "\n",
    "# Read the Parquet files into a Spark DataFrame\n",
    "df1_yellow = spark.read.load(parquet_files, format=\"parquet\")\n",
    "\n",
    "# Print the DataFrame\n",
    "df1_yellow.show()"
   ]
  },
  {
   "cell_type": "code",
   "execution_count": 43,
   "id": "d12f784e",
   "metadata": {},
   "outputs": [
    {
     "name": "stdout",
     "output_type": "stream",
     "text": [
      "root\n",
      " |-- VendorID: long (nullable = true)\n",
      " |-- tpep_pickup_datetime: timestamp (nullable = true)\n",
      " |-- tpep_dropoff_datetime: timestamp (nullable = true)\n",
      " |-- passenger_count: double (nullable = true)\n",
      " |-- trip_distance: double (nullable = true)\n",
      " |-- RatecodeID: double (nullable = true)\n",
      " |-- store_and_fwd_flag: string (nullable = true)\n",
      " |-- PULocationID: integer (nullable = true)\n",
      " |-- DOLocationID: integer (nullable = true)\n",
      " |-- payment_type: integer (nullable = true)\n",
      " |-- fare_amount: double (nullable = true)\n",
      " |-- extra: double (nullable = true)\n",
      " |-- mta_tax: double (nullable = true)\n",
      " |-- tip_amount: double (nullable = true)\n",
      " |-- tolls_amount: double (nullable = true)\n",
      " |-- improvement_surcharge: double (nullable = true)\n",
      " |-- total_amount: double (nullable = true)\n",
      " |-- congestion_surcharge: double (nullable = true)\n",
      " |-- airport_fee: double (nullable = true)\n",
      " |-- month: integer (nullable = true)\n",
      "\n"
     ]
    }
   ],
   "source": [
    "df1_yellow.printSchema()"
   ]
  },
  {
   "cell_type": "code",
   "execution_count": 38,
   "id": "6e714338",
   "metadata": {},
   "outputs": [
    {
     "data": {
      "text/plain": [
       "3833700"
      ]
     },
     "execution_count": 38,
     "metadata": {},
     "output_type": "execute_result"
    }
   ],
   "source": [
    "df1_yellow.count()"
   ]
  },
  {
   "cell_type": "code",
   "execution_count": 39,
   "id": "85f4d20d",
   "metadata": {},
   "outputs": [
    {
     "name": "stderr",
     "output_type": "stream",
     "text": [
      "                                                                                \r"
     ]
    },
    {
     "data": {
      "text/plain": [
       "3833700"
      ]
     },
     "execution_count": 39,
     "metadata": {},
     "output_type": "execute_result"
    }
   ],
   "source": [
    "df_yellow.count()"
   ]
  },
  {
   "cell_type": "code",
   "execution_count": 40,
   "id": "245f2cef",
   "metadata": {},
   "outputs": [
    {
     "name": "stdout",
     "output_type": "stream",
     "text": [
      "+--------+--------------------+---------------------+------------------+----------+------------+------------+---------------+-------------+-----------+-----+-------+----------+------------+---------+---------------------+------------+------------+---------+--------------------+\n",
      "|VendorID|lpep_pickup_datetime|lpep_dropoff_datetime|store_and_fwd_flag|RatecodeID|PULocationID|DOLocationID|passenger_count|trip_distance|fare_amount|extra|mta_tax|tip_amount|tolls_amount|ehail_fee|improvement_surcharge|total_amount|payment_type|trip_type|congestion_surcharge|\n",
      "+--------+--------------------+---------------------+------------------+----------+------------+------------+---------------+-------------+-----------+-----+-------+----------+------------+---------+---------------------+------------+------------+---------+--------------------+\n",
      "|       2| 2021-01-01 05:45:56|  2021-01-01 05:49:52|                 N|       1.0|          43|         151|            1.0|         1.01|        5.5|  0.5|    0.5|       0.0|         0.0|     null|                  0.3|         6.8|         2.0|      1.0|                 0.0|\n",
      "|       2| 2021-01-01 05:55:59|  2021-01-01 06:04:44|                 N|       1.0|         166|         239|            1.0|         2.53|       10.0|  0.5|    0.5|      2.81|         0.0|     null|                  0.3|       16.86|         1.0|      1.0|                2.75|\n",
      "|       2| 2021-01-01 06:15:57|  2021-01-01 06:21:55|                 N|       1.0|          41|          42|            1.0|         1.12|        6.0|  0.5|    0.5|       1.0|         0.0|     null|                  0.3|         8.3|         1.0|      1.0|                 0.0|\n",
      "|       2| 2021-01-01 05:27:51|  2021-01-01 05:34:56|                 N|       1.0|         168|          75|            1.0|         1.99|        8.0|  0.5|    0.5|       0.0|         0.0|     null|                  0.3|         9.3|         2.0|      1.0|                 0.0|\n",
      "|       2| 2021-01-01 05:46:36|  2021-01-01 05:46:40|                 N|       2.0|         265|         265|            3.0|          0.0|      -52.0|  0.0|   -0.5|       0.0|         0.0|     null|                 -0.3|       -52.8|         3.0|      1.0|                 0.0|\n",
      "|       2| 2021-01-01 05:46:36|  2021-01-01 05:46:40|                 N|       2.0|         265|         265|            3.0|          0.0|       52.0|  0.0|    0.5|       0.0|         0.0|     null|                  0.3|        52.8|         2.0|      1.0|                 0.0|\n",
      "|       2| 2021-01-01 05:49:14|  2021-01-01 05:49:21|                 N|       5.0|         265|         265|            1.0|          0.0|      180.0|  0.0|    0.0|     36.06|         0.0|     null|                  0.3|      216.36|         1.0|      2.0|                 0.0|\n",
      "|       2| 2021-01-01 05:56:31|  2021-01-01 05:58:50|                 N|       1.0|          75|          75|            6.0|         0.45|        3.5|  0.5|    0.5|      0.96|         0.0|     null|                  0.3|        5.76|         1.0|      1.0|                 0.0|\n",
      "|       2| 2021-01-01 06:27:46|  2021-01-01 06:27:57|                 N|       1.0|         225|         225|            1.0|          0.0|        2.5|  0.5|    0.5|       0.0|         0.0|     null|                  0.3|         3.8|         2.0|      1.0|                 0.0|\n",
      "|       2| 2021-01-01 06:28:32|  2021-01-01 07:02:34|                 N|       1.0|         225|         265|            1.0|        12.19|       38.0|  0.5|    0.5|      2.75|         0.0|     null|                  0.3|       42.05|         1.0|      1.0|                 0.0|\n",
      "|       2| 2021-01-01 06:01:14|  2021-01-01 06:25:07|                 N|       1.0|         244|         244|            2.0|         3.39|       18.0|  0.5|    0.5|       0.0|         0.0|     null|                  0.3|        19.3|         2.0|      1.0|                 0.0|\n",
      "|       2| 2021-01-01 05:38:50|  2021-01-01 05:51:56|                 N|       1.0|          75|         213|            1.0|         6.69|       19.5|  0.5|    0.5|       0.0|         0.0|     null|                  0.3|        20.8|         2.0|      1.0|                 0.0|\n",
      "|       2| 2021-01-01 06:05:13|  2021-01-01 06:14:44|                 N|       1.0|          74|         238|            1.0|         2.34|       10.0|  0.5|    0.5|       0.0|         0.0|     null|                  0.3|       14.05|         1.0|      1.0|                2.75|\n",
      "|       2| 2021-01-01 06:09:57|  2021-01-01 06:25:25|                 N|       1.0|          74|          60|            1.0|         5.48|       18.0|  0.5|    0.5|       0.0|         0.0|     null|                  0.3|        19.3|         2.0|      1.0|                 0.0|\n",
      "|       1| 2021-01-01 06:21:27|  2021-01-01 06:27:20|                 N|       1.0|          42|          41|            2.0|          0.9|        6.0|  0.5|    0.5|       0.0|         0.0|     null|                  0.3|         7.3|         1.0|      1.0|                 0.0|\n",
      "|       2| 2021-01-01 05:59:05|  2021-01-01 05:59:07|                 N|       5.0|          42|         264|            1.0|          0.0|       10.0|  0.0|    0.0|      2.06|         0.0|     null|                  0.3|       12.36|         1.0|      2.0|                 0.0|\n",
      "|       2| 2021-01-01 06:02:07|  2021-01-01 06:12:54|                 N|       1.0|          74|         116|            1.0|         2.08|        9.5|  0.5|    0.5|      2.16|         0.0|     null|                  0.3|       12.96|         1.0|      1.0|                 0.0|\n",
      "|       2| 2021-01-01 06:19:59|  2021-01-01 06:35:01|                 N|       1.0|         116|         143|            1.0|         4.64|       16.5|  0.5|    0.5|      5.14|         0.0|     null|                  0.3|       25.69|         1.0|      1.0|                2.75|\n",
      "|       2| 2021-01-01 05:37:20|  2021-01-01 05:42:01|                 N|       1.0|          75|          42|            1.0|         1.68|        6.5|  0.5|    0.5|       0.0|         0.0|     null|                  0.3|         7.8|         2.0|      1.0|                 0.0|\n",
      "|       2| 2021-01-01 05:55:54|  2021-01-01 05:58:20|                 N|       1.0|          74|          75|            1.0|         0.68|        4.0|  0.5|    0.5|       0.0|         0.0|     null|                  0.3|         5.3|         2.0|      1.0|                 0.0|\n",
      "+--------+--------------------+---------------------+------------------+----------+------------+------------+---------------+-------------+-----------+-----+-------+----------+------------+---------+---------------------+------------+------------+---------+--------------------+\n",
      "only showing top 20 rows\n",
      "\n"
     ]
    }
   ],
   "source": [
    "# reading the green data\n",
    "\n",
    "df_green = spark.read \\\n",
    "                .option(\"headers\", \"true\") \\\n",
    "                .parquet(\"raw_data_green/\")\n",
    "df_green.show()\n",
    "\n"
   ]
  },
  {
   "cell_type": "code",
   "execution_count": 42,
   "id": "db0e491b",
   "metadata": {},
   "outputs": [
    {
     "name": "stdout",
     "output_type": "stream",
     "text": [
      "root\n",
      " |-- VendorID: long (nullable = true)\n",
      " |-- lpep_pickup_datetime: timestamp (nullable = true)\n",
      " |-- lpep_dropoff_datetime: timestamp (nullable = true)\n",
      " |-- store_and_fwd_flag: string (nullable = true)\n",
      " |-- RatecodeID: double (nullable = true)\n",
      " |-- PULocationID: long (nullable = true)\n",
      " |-- DOLocationID: long (nullable = true)\n",
      " |-- passenger_count: double (nullable = true)\n",
      " |-- trip_distance: double (nullable = true)\n",
      " |-- fare_amount: double (nullable = true)\n",
      " |-- extra: double (nullable = true)\n",
      " |-- mta_tax: double (nullable = true)\n",
      " |-- tip_amount: double (nullable = true)\n",
      " |-- tolls_amount: double (nullable = true)\n",
      " |-- ehail_fee: integer (nullable = true)\n",
      " |-- improvement_surcharge: double (nullable = true)\n",
      " |-- total_amount: double (nullable = true)\n",
      " |-- payment_type: double (nullable = true)\n",
      " |-- trip_type: double (nullable = true)\n",
      " |-- congestion_surcharge: double (nullable = true)\n",
      "\n"
     ]
    }
   ],
   "source": [
    "df_green.printSchema()\n",
    "\n",
    "#df_green = df_green.withColumn(\"year\", F.year(df_yellow.tpep_pickup_datetime))"
   ]
  },
  {
   "cell_type": "code",
   "execution_count": 49,
   "id": "2db09a6b",
   "metadata": {},
   "outputs": [
    {
     "data": {
      "text/plain": [
       "139013"
      ]
     },
     "execution_count": 49,
     "metadata": {},
     "output_type": "execute_result"
    }
   ],
   "source": [
    "df_green.count()"
   ]
  },
  {
   "cell_type": "code",
   "execution_count": 44,
   "id": "56b571ac",
   "metadata": {},
   "outputs": [],
   "source": [
    "df_green = df_green \\\n",
    "    .withColumn('PULocationID',col('PULocationID').cast('integer')) \\\n",
    "    .withColumn('DOLocationID',col('DOLocationID').cast('integer')) \\\n",
    "    .withColumn('payment_type',col('payment_type').cast('integer'))"
   ]
  },
  {
   "cell_type": "code",
   "execution_count": 45,
   "id": "8cdc1ac0",
   "metadata": {},
   "outputs": [
    {
     "name": "stdout",
     "output_type": "stream",
     "text": [
      "root\n",
      " |-- VendorID: long (nullable = true)\n",
      " |-- lpep_pickup_datetime: timestamp (nullable = true)\n",
      " |-- lpep_dropoff_datetime: timestamp (nullable = true)\n",
      " |-- store_and_fwd_flag: string (nullable = true)\n",
      " |-- RatecodeID: double (nullable = true)\n",
      " |-- PULocationID: integer (nullable = true)\n",
      " |-- DOLocationID: integer (nullable = true)\n",
      " |-- passenger_count: double (nullable = true)\n",
      " |-- trip_distance: double (nullable = true)\n",
      " |-- fare_amount: double (nullable = true)\n",
      " |-- extra: double (nullable = true)\n",
      " |-- mta_tax: double (nullable = true)\n",
      " |-- tip_amount: double (nullable = true)\n",
      " |-- tolls_amount: double (nullable = true)\n",
      " |-- ehail_fee: integer (nullable = true)\n",
      " |-- improvement_surcharge: double (nullable = true)\n",
      " |-- total_amount: double (nullable = true)\n",
      " |-- payment_type: integer (nullable = true)\n",
      " |-- trip_type: double (nullable = true)\n",
      " |-- congestion_surcharge: double (nullable = true)\n",
      "\n"
     ]
    }
   ],
   "source": [
    "df_green.printSchema()"
   ]
  },
  {
   "cell_type": "code",
   "execution_count": 48,
   "id": "78e5e73a",
   "metadata": {},
   "outputs": [
    {
     "name": "stderr",
     "output_type": "stream",
     "text": [
      "                                                                                \r"
     ]
    }
   ],
   "source": [
    "# repartitioning the data BY year,we can also use bith year and month\n",
    "\n",
    "df_green = df_green.withColumn(\"year\", F.year(df_green.lpep_pickup_datetime))\n",
    "df_green = df_green.repartition(10)\n",
    "df_green.write.parquet(\"green_partitioned_data/\", partitionBy=[\"year\"])"
   ]
  },
  {
   "cell_type": "code",
   "execution_count": 50,
   "id": "4daeecf1",
   "metadata": {},
   "outputs": [
    {
     "name": "stdout",
     "output_type": "stream",
     "text": [
      "+--------+--------------------+---------------------+------------------+----------+------------+------------+---------------+-------------+-----------+-----+-------+----------+------------+---------+---------------------+------------+------------+---------+--------------------+\n",
      "|VendorID|lpep_pickup_datetime|lpep_dropoff_datetime|store_and_fwd_flag|RatecodeID|PULocationID|DOLocationID|passenger_count|trip_distance|fare_amount|extra|mta_tax|tip_amount|tolls_amount|ehail_fee|improvement_surcharge|total_amount|payment_type|trip_type|congestion_surcharge|\n",
      "+--------+--------------------+---------------------+------------------+----------+------------+------------+---------------+-------------+-----------+-----+-------+----------+------------+---------+---------------------+------------+------------+---------+--------------------+\n",
      "|       2| 2021-01-29 15:20:09|  2021-01-29 15:26:43|                 N|       1.0|         152|         151|            1.0|         2.08|        8.0|  0.0|    0.5|      1.76|         0.0|     null|                  0.3|       10.56|           1|      1.0|                 0.0|\n",
      "|       2| 2021-01-27 13:45:00|  2021-01-27 13:51:00|              null|      null|         129|         129|           null|         1.14|       7.11|  0.0|    0.0|      1.22|         0.0|     null|                  0.3|        8.63|        null|     null|                null|\n",
      "|       2| 2021-01-13 23:13:15|  2021-01-13 23:27:29|                 N|       1.0|          97|          61|            5.0|         2.96|       12.0|  1.0|    0.5|       1.2|         0.0|     null|                  0.3|        15.0|           1|      1.0|                 0.0|\n",
      "|       2| 2021-01-19 15:50:00|  2021-01-19 16:08:00|              null|      null|          61|          33|           null|         3.74|      18.18| 2.75|    0.0|      2.75|         0.0|     null|                  0.3|       23.98|        null|     null|                null|\n",
      "|       2| 2021-01-18 23:01:00|  2021-01-18 23:35:00|              null|      null|          35|         191|           null|        12.36|      52.68|  0.0|    0.0|      2.75|         0.0|     null|                  0.3|       55.73|        null|     null|                null|\n",
      "|       2| 2021-01-05 19:41:00|  2021-01-05 19:57:00|              null|      null|         218|         131|           null|         3.66|      21.57|  0.0|    0.0|      2.75|         0.0|     null|                  0.3|       24.62|        null|     null|                null|\n",
      "|       2| 2021-01-06 21:27:15|  2021-01-06 21:45:43|                 N|       1.0|         244|         142|            1.0|         6.84|       22.5|  0.0|    0.5|       3.5|         0.0|     null|                  0.3|       29.55|           1|      1.0|                2.75|\n",
      "|       2| 2021-01-14 17:24:00|  2021-01-14 17:50:00|              null|      null|          51|         174|           null|         3.87|       18.5|  0.0|    0.0|      2.75|        6.12|     null|                  0.3|       27.67|        null|     null|                null|\n",
      "|       2| 2021-01-30 19:56:00|  2021-01-30 20:25:00|              null|      null|         182|         179|           null|          8.1|      33.83| 2.75|    0.0|       0.0|        6.12|     null|                  0.3|        43.0|        null|     null|                null|\n",
      "|       2| 2021-01-23 02:10:18|  2021-01-23 02:11:41|                 N|       1.0|          93|          93|            3.0|          0.0|        2.5|  0.5|    0.5|       0.0|         0.0|     null|                  0.3|         3.8|           2|      1.0|                 0.0|\n",
      "|       2| 2021-01-12 19:44:00|  2021-01-12 20:09:00|              null|      null|          80|          79|           null|         4.29|      24.06|  0.0|    0.0|      2.75|         0.0|     null|                  0.3|       27.11|        null|     null|                null|\n",
      "|       2| 2021-01-10 23:50:50|  2021-01-11 00:40:01|                 N|       1.0|          21|          74|            1.0|        22.68|       66.5|  0.0|    0.5|      2.75|        6.12|     null|                  0.3|       76.17|           1|      1.0|                 0.0|\n",
      "|       2| 2021-01-05 21:30:59|  2021-01-05 21:40:37|                 N|       1.0|          43|          43|            1.0|         1.99|        9.0|  0.0|    0.5|      3.14|         0.0|     null|                  0.3|       15.69|           1|      1.0|                2.75|\n",
      "|       2| 2021-01-10 18:20:59|  2021-01-10 18:29:26|                 N|       1.0|          97|         181|            1.0|         1.34|        7.5|  0.0|    0.5|      2.49|         0.0|     null|                  0.3|       10.79|           1|      1.0|                 0.0|\n",
      "|       2| 2021-01-28 12:54:39|  2021-01-28 12:57:12|                 N|       1.0|          42|          42|            1.0|         0.69|        4.0|  0.0|    0.5|       0.0|         0.0|     null|                  0.3|         4.8|           2|      1.0|                 0.0|\n",
      "|       2| 2021-01-29 19:04:25|  2021-01-29 19:10:17|                 N|       5.0|          95|          28|            1.0|         2.65|       16.3|  0.0|    0.0|       0.0|         0.0|     null|                  0.3|        16.6|           1|      2.0|                 0.0|\n",
      "|       2| 2021-01-21 13:56:33|  2021-01-21 14:07:52|                 N|       1.0|          42|         166|            1.0|         1.93|        9.5|  0.0|    0.5|       0.5|         0.0|     null|                  0.3|        10.8|           1|      1.0|                 0.0|\n",
      "|       2| 2021-01-11 13:47:49|  2021-01-11 13:53:38|                 N|       1.0|          43|         238|            1.0|         1.17|        6.5|  0.0|    0.5|      2.01|         0.0|     null|                  0.3|       12.06|           1|      1.0|                2.75|\n",
      "|       2| 2021-01-10 20:21:00|  2021-01-10 20:39:00|              null|      null|         216|          95|           null|         5.62|      31.99|  0.0|    0.0|      2.75|         0.0|     null|                  0.3|       35.04|        null|     null|                null|\n",
      "|       2| 2021-01-12 23:12:52|  2021-01-12 23:49:37|                 N|       1.0|         173|         173|            2.0|         1.74|       21.5|  1.0|    0.5|      2.75|         0.0|     null|                  0.3|       26.05|           1|      1.0|                 0.0|\n",
      "+--------+--------------------+---------------------+------------------+----------+------------+------------+---------------+-------------+-----------+-----+-------+----------+------------+---------+---------------------+------------+------------+---------+--------------------+\n",
      "only showing top 20 rows\n",
      "\n"
     ]
    }
   ],
   "source": [
    "# to read all the files inside the directories use this code\n",
    "\n",
    "import glob\n",
    "#from pyspark.sql import functions as F\n",
    "\n",
    "# Get a list of all the Parquet files in the `yellow_data` directory\n",
    "parquet_files = glob.glob(\"green_partitioned_data/**/*.parquet\")\n",
    "\n",
    "# Create a SparkSession\n",
    "#spark = SparkSession.builder.getOrCreate()\n",
    "\n",
    "# Read the Parquet files into a Spark DataFrame\n",
    "df1_green = spark.read.load(parquet_files, format=\"parquet\")\n",
    "\n",
    "# Print the DataFrame\n",
    "df1_green.show()"
   ]
  },
  {
   "cell_type": "code",
   "execution_count": 51,
   "id": "ea5675e6",
   "metadata": {},
   "outputs": [
    {
     "data": {
      "text/plain": [
       "139013"
      ]
     },
     "execution_count": 51,
     "metadata": {},
     "output_type": "execute_result"
    }
   ],
   "source": [
    "df1_green.count()"
   ]
  },
  {
   "cell_type": "code",
   "execution_count": 54,
   "id": "be00ab84",
   "metadata": {},
   "outputs": [],
   "source": [
    "## combining the two datsets\n"
   ]
  },
  {
   "cell_type": "code",
   "execution_count": 55,
   "id": "54f5ba5f",
   "metadata": {},
   "outputs": [],
   "source": [
    "parquet_files = glob.glob(\"green_partitioned_data/**/*.parquet\")\n",
    "df1_green = spark.read.load(parquet_files, format=\"parquet\")\n",
    "\n",
    "df1_green = df1_green \\\n",
    "    .withColumnRenamed('lpep_pickup_datetime', 'pickup_datetime') \\\n",
    "    .withColumnRenamed('lpep_dropoff_datetime', 'dropoff_datetime')\n",
    "\n"
   ]
  },
  {
   "cell_type": "code",
   "execution_count": 56,
   "id": "4e82f693",
   "metadata": {},
   "outputs": [],
   "source": [
    "parquet_files = glob.glob(\"yellow_partitioned_data/**/*.parquet\")\n",
    "df1_yellow = spark.read.load(parquet_files, format=\"parquet\")\n",
    "\n",
    "df1_yellow = df1_yellow \\\n",
    "    .withColumnRenamed('tpep_pickup_datetime', 'pickup_datetime') \\\n",
    "    .withColumnRenamed('tpep_dropoff_datetime', 'dropoff_datetime')"
   ]
  },
  {
   "cell_type": "code",
   "execution_count": null,
   "id": "38ecd987",
   "metadata": {},
   "outputs": [],
   "source": [
    "##  a combined table of yellow and green taxis, \n",
    "# so we will create a combined dataframe with the common columns to both datasets.\n",
    "# We need to find out which are the common columns."
   ]
  },
  {
   "cell_type": "code",
   "execution_count": 57,
   "id": "56d16be1",
   "metadata": {},
   "outputs": [
    {
     "ename": "TypeError",
     "evalue": "unhashable type: 'Column'",
     "output_type": "error",
     "traceback": [
      "\u001b[0;31m---------------------------------------------------------------------------\u001b[0m",
      "\u001b[0;31mTypeError\u001b[0m                                 Traceback (most recent call last)",
      "\u001b[0;32m/tmp/ipykernel_11536/4069873044.py\u001b[0m in \u001b[0;36m<module>\u001b[0;34m\u001b[0m\n\u001b[0;32m----> 1\u001b[0;31m \u001b[0mset\u001b[0m\u001b[0;34m(\u001b[0m\u001b[0mdf1_yellow\u001b[0m\u001b[0;34m)\u001b[0m \u001b[0;34m&\u001b[0m \u001b[0mset\u001b[0m\u001b[0;34m(\u001b[0m\u001b[0mdf1_green\u001b[0m\u001b[0;34m)\u001b[0m\u001b[0;34m\u001b[0m\u001b[0;34m\u001b[0m\u001b[0m\n\u001b[0m",
      "\u001b[0;31mTypeError\u001b[0m: unhashable type: 'Column'"
     ]
    }
   ],
   "source": [
    "set(df1_yellow) & set(df1_green)\n",
    "\n",
    "# However, this command will not respect the column order. We can do this instead to respect the order:"
   ]
  },
  {
   "cell_type": "code",
   "execution_count": 60,
   "id": "4328c9a0",
   "metadata": {},
   "outputs": [
    {
     "name": "stdout",
     "output_type": "stream",
     "text": [
      "['VendorID', 'pickup_datetime', 'dropoff_datetime', 'store_and_fwd_flag', 'RatecodeID', 'PULocationID', 'DOLocationID', 'passenger_count', 'trip_distance', 'fare_amount', 'extra', 'mta_tax', 'tip_amount', 'tolls_amount', 'improvement_surcharge', 'total_amount', 'payment_type', 'congestion_surcharge']\n"
     ]
    }
   ],
   "source": [
    "common_colums = []\n",
    "\n",
    "yellow_columns = set(df1_yellow.columns)\n",
    "\n",
    "for col in df1_green.columns:\n",
    "    if col in yellow_columns:\n",
    "        common_colums.append(col)\n",
    "        \n",
    "print(common_colums)"
   ]
  },
  {
   "cell_type": "code",
   "execution_count": null,
   "id": "861946be",
   "metadata": {},
   "outputs": [],
   "source": [
    "# Before we combine the datasets, \n",
    "#we need to figure out how we will keep track of the taxi type for each record (the service_type field in dm_monthyl_zone_revenue.sql). \n",
    "# We will add the service_type column to each dataframe."
   ]
  },
  {
   "cell_type": "code",
   "execution_count": 61,
   "id": "e64ea766",
   "metadata": {},
   "outputs": [],
   "source": [
    "#adding a new column of service type as 'green' or 'yellow'\n",
    "\n",
    "from pyspark.sql import functions as F\n",
    "\n",
    "df_green_sel = df1_green \\\n",
    "    .select(common_colums) \\\n",
    "    .withColumn('service_type', F.lit('green'))\n",
    "\n",
    "df_yellow_sel = df1_yellow \\\n",
    "    .select(common_colums) \\\n",
    "    .withColumn('service_type', F.lit('yellow'))"
   ]
  },
  {
   "cell_type": "code",
   "execution_count": null,
   "id": "51f93d49",
   "metadata": {},
   "outputs": [],
   "source": [
    "#F.lit() adds a literal or constant to a dataframe.\n",
    "#We use it here to fill the service_type column with a constant value, which is its corresponging taxi type."
   ]
  },
  {
   "cell_type": "code",
   "execution_count": 62,
   "id": "40351b42",
   "metadata": {},
   "outputs": [],
   "source": [
    "# Finally, let's combine both datasets:\n",
    "\n",
    "df_trips_data = df_green_sel.unionAll(df_yellow_sel)"
   ]
  },
  {
   "cell_type": "code",
   "execution_count": 63,
   "id": "f2aca99f",
   "metadata": {},
   "outputs": [
    {
     "name": "stderr",
     "output_type": "stream",
     "text": [
      "[Stage 53:====================================>                     (5 + 3) / 8]\r"
     ]
    },
    {
     "name": "stdout",
     "output_type": "stream",
     "text": [
      "+------------+-------+\n",
      "|service_type|  count|\n",
      "+------------+-------+\n",
      "|       green| 139013|\n",
      "|      yellow|3833700|\n",
      "+------------+-------+\n",
      "\n"
     ]
    },
    {
     "name": "stderr",
     "output_type": "stream",
     "text": [
      "\r",
      "                                                                                \r"
     ]
    }
   ],
   "source": [
    "#We can also count the amount of records per taxi type:\n",
    "\n",
    "df_trips_data.groupBy('service_type').count().show()"
   ]
  },
  {
   "cell_type": "code",
   "execution_count": 64,
   "id": "9ec8e9a6",
   "metadata": {},
   "outputs": [
    {
     "name": "stdout",
     "output_type": "stream",
     "text": [
      "root\n",
      " |-- VendorID: long (nullable = true)\n",
      " |-- pickup_datetime: timestamp (nullable = true)\n",
      " |-- dropoff_datetime: timestamp (nullable = true)\n",
      " |-- store_and_fwd_flag: string (nullable = true)\n",
      " |-- RatecodeID: double (nullable = true)\n",
      " |-- PULocationID: integer (nullable = true)\n",
      " |-- DOLocationID: integer (nullable = true)\n",
      " |-- passenger_count: double (nullable = true)\n",
      " |-- trip_distance: double (nullable = true)\n",
      " |-- fare_amount: double (nullable = true)\n",
      " |-- extra: double (nullable = true)\n",
      " |-- mta_tax: double (nullable = true)\n",
      " |-- tip_amount: double (nullable = true)\n",
      " |-- tolls_amount: double (nullable = true)\n",
      " |-- improvement_surcharge: double (nullable = true)\n",
      " |-- total_amount: double (nullable = true)\n",
      " |-- payment_type: integer (nullable = true)\n",
      " |-- congestion_surcharge: double (nullable = true)\n",
      " |-- service_type: string (nullable = false)\n",
      "\n"
     ]
    }
   ],
   "source": [
    "df_trips_data.printSchema()"
   ]
  },
  {
   "cell_type": "code",
   "execution_count": 66,
   "id": "f41ea84e",
   "metadata": {},
   "outputs": [],
   "source": [
    "# creating a temp table to query in sql\n",
    "\n",
    "df_trips_data.createOrReplaceTempView(\"trips_data\")"
   ]
  },
  {
   "cell_type": "code",
   "execution_count": 67,
   "id": "ebf29bf8",
   "metadata": {},
   "outputs": [
    {
     "name": "stderr",
     "output_type": "stream",
     "text": [
      "\r",
      "[Stage 56:>                                                         (0 + 4) / 8]\r",
      "\r",
      "[Stage 56:===========================================>              (6 + 2) / 8]\r"
     ]
    },
    {
     "name": "stdout",
     "output_type": "stream",
     "text": [
      "+--------+\n",
      "|count(1)|\n",
      "+--------+\n",
      "| 3972713|\n",
      "+--------+\n",
      "\n"
     ]
    },
    {
     "name": "stderr",
     "output_type": "stream",
     "text": [
      "\r",
      "                                                                                \r"
     ]
    }
   ],
   "source": [
    "spark.sql(\"SELECT COUNT(*) FROM trips_data\").show()"
   ]
  },
  {
   "cell_type": "code",
   "execution_count": 68,
   "id": "8f1d6181",
   "metadata": {},
   "outputs": [
    {
     "name": "stderr",
     "output_type": "stream",
     "text": [
      "[Stage 59:====================================>                     (5 + 3) / 8]\r"
     ]
    },
    {
     "name": "stdout",
     "output_type": "stream",
     "text": [
      "+------------+--------+\n",
      "|service_type|count(1)|\n",
      "+------------+--------+\n",
      "|       green|  139013|\n",
      "|      yellow| 3833700|\n",
      "+------------+--------+\n",
      "\n"
     ]
    },
    {
     "name": "stderr",
     "output_type": "stream",
     "text": [
      "\r",
      "                                                                                \r"
     ]
    }
   ],
   "source": [
    "spark.sql(\"\"\"\n",
    "SELECT\n",
    "    service_type,\n",
    "    count(1)\n",
    "FROM\n",
    "    trips_data\n",
    "GROUP BY \n",
    "    service_type\n",
    "\"\"\").show()"
   ]
  },
  {
   "cell_type": "code",
   "execution_count": 70,
   "id": "13794512",
   "metadata": {},
   "outputs": [],
   "source": [
    "df_result = spark.sql(\"\"\"\n",
    "SELECT \n",
    "    -- Reveneue grouping \n",
    "    PULocationID AS revenue_zone,\n",
    "    date_trunc('month', pickup_datetime) AS revenue_month, \n",
    "    service_type, \n",
    "\n",
    "    -- Revenue calculation \n",
    "    SUM(fare_amount) AS revenue_monthly_fare,\n",
    "    SUM(extra) AS revenue_monthly_extra,\n",
    "    SUM(mta_tax) AS revenue_monthly_mta_tax,\n",
    "    SUM(tip_amount) AS revenue_monthly_tip_amount,\n",
    "    SUM(tolls_amount) AS revenue_monthly_tolls_amount,\n",
    "    SUM(improvement_surcharge) AS revenue_monthly_improvement_surcharge,\n",
    "    SUM(total_amount) AS revenue_monthly_total_amount,\n",
    "    SUM(congestion_surcharge) AS revenue_monthly_congestion_surcharge,\n",
    "\n",
    "    -- Additional calculations\n",
    "    AVG(passenger_count) AS avg_montly_passenger_count,\n",
    "    AVG(trip_distance) AS avg_montly_trip_distance\n",
    "FROM\n",
    "    trips_data\n",
    "GROUP BY\n",
    "    1, 2, 3\n",
    "\"\"\")"
   ]
  },
  {
   "cell_type": "code",
   "execution_count": 74,
   "id": "d7b0fa47",
   "metadata": {},
   "outputs": [
    {
     "name": "stdout",
     "output_type": "stream",
     "text": [
      "root\n",
      " |-- revenue_zone: integer (nullable = true)\n",
      " |-- revenue_month: timestamp (nullable = true)\n",
      " |-- service_type: string (nullable = false)\n",
      " |-- revenue_monthly_fare: double (nullable = true)\n",
      " |-- revenue_monthly_extra: double (nullable = true)\n",
      " |-- revenue_monthly_mta_tax: double (nullable = true)\n",
      " |-- revenue_monthly_tip_amount: double (nullable = true)\n",
      " |-- revenue_monthly_tolls_amount: double (nullable = true)\n",
      " |-- revenue_monthly_improvement_surcharge: double (nullable = true)\n",
      " |-- revenue_monthly_total_amount: double (nullable = true)\n",
      " |-- revenue_monthly_congestion_surcharge: double (nullable = true)\n",
      " |-- avg_montly_passenger_count: double (nullable = true)\n",
      " |-- avg_montly_trip_distance: double (nullable = true)\n",
      "\n"
     ]
    }
   ],
   "source": [
    "df_result.printSchema()"
   ]
  },
  {
   "cell_type": "code",
   "execution_count": 72,
   "id": "7a607011",
   "metadata": {},
   "outputs": [
    {
     "name": "stderr",
     "output_type": "stream",
     "text": [
      "                                                                                \r"
     ]
    }
   ],
   "source": [
    "# Once we're happy with the output, \n",
    "#we can also store it as a parquet file just like any other dataframe. We could run this:\n",
    "\n",
    "#df_result.write.parquet('data_report/revenue/')"
   ]
  },
  {
   "cell_type": "code",
   "execution_count": 73,
   "id": "53d03740",
   "metadata": {},
   "outputs": [
    {
     "name": "stderr",
     "output_type": "stream",
     "text": [
      "                                                                                \r"
     ]
    }
   ],
   "source": [
    "# we need to reduce the amount of partitions of the dataset, which is done with the coalesce() method:\n",
    "\n",
    "df_result.coalesce(1).write.parquet('data_report/revenue/', mode='overwrite')"
   ]
  }
 ],
 "metadata": {
  "kernelspec": {
   "display_name": "Python 3 (ipykernel)",
   "language": "python",
   "name": "python3"
  },
  "language_info": {
   "codemirror_mode": {
    "name": "ipython",
    "version": 3
   },
   "file_extension": ".py",
   "mimetype": "text/x-python",
   "name": "python",
   "nbconvert_exporter": "python",
   "pygments_lexer": "ipython3",
   "version": "3.10.12"
  }
 },
 "nbformat": 4,
 "nbformat_minor": 5
}
